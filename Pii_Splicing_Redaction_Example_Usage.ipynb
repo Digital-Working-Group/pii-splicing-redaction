{
 "cells": [
  {
   "cell_type": "markdown",
   "id": "c0a7118e",
   "metadata": {},
   "source": [
    "# Pii Splicing Redaction Exampe Usages"
   ]
  },
  {
   "cell_type": "markdown",
   "id": "de62bd5d",
   "metadata": {},
   "source": [
    "This repository contains a tool to redact PII (personally identifiable information) using local large language models via Ollama.\n",
    "\n",
    "Please see the [pii-splicing-documentation repository](https://github.com/Digital-Working-Group/pii-splicing-documentation) for further reading materials on PII Splicing.\n",
    "\n",
    "This notebook provides simple usage examples."
   ]
  },
  {
   "cell_type": "markdown",
   "id": "d3972a9f",
   "metadata": {},
   "source": [
    "## Input and Output Files"
   ]
  },
  {
   "cell_type": "markdown",
   "id": "a8441df9",
   "metadata": {},
   "source": [
    "The tool expects plain text files as input. Extracted entities and redacted text are written in JSON or HTML format, based on the selected output format. Output files will be written to a directory named after the LLM model that was selected.\n",
    "\n",
    "For more information on the contents and location of these files. Please see [this section](https://github.com/Digital-Working-Group/pii-splicing-redaction/blob/main/README.md#sample-input-and-output-files) of the README"
   ]
  },
  {
   "cell_type": "markdown",
   "id": "f9337733",
   "metadata": {},
   "source": [
    "## Installation Instructions"
   ]
  },
  {
   "cell_type": "markdown",
   "id": "1c9fdf49",
   "metadata": {},
   "source": [
    "Running these scripts require the installation of Ollama, a locally depoloyed AI model runner.\n",
    "\n",
    "For specific set-up instructions, please see [this section](https://github.com/Digital-Working-Group/pii-splicing-redaction/blob/main/README.md#installation) of the README"
   ]
  },
  {
   "cell_type": "markdown",
   "id": "c005bcb3",
   "metadata": {},
   "source": [
    "## Example Usage"
   ]
  },
  {
   "cell_type": "markdown",
   "id": "c7f27dce",
   "metadata": {},
   "source": [
    "The following example demonstrates the output of using the function `run_redaction()` and llama3.2 to extract personal information from the sample input file.\n",
    "\n",
    "`run_redaction()` takes in arguments and a list of input paths, and outputs redacted output files."
   ]
  },
  {
   "cell_type": "code",
   "execution_count": 9,
   "id": "320bfa5e",
   "metadata": {},
   "outputs": [
    {
     "data": {
      "text/html": [
       "<pre style=\"white-space:pre;overflow-x:auto;line-height:normal;font-family:Menlo,'DejaVu Sans Mono',consolas,'Courier New',monospace\">I stood at the edge of Lake Serenity, the sun glistening on the water's surface. \"Do you remember when we built \n",
       "that terrible raft for the summer camp?\" I asked <span style=\"color: #af00ff; text-decoration-color: #af00ff\">Sarah</span>, grinning. Her laughter echoed in my ears, reminding me of \n",
       "our countless summer adventures here in <span style=\"color: #af00ff; text-decoration-color: #af00ff\">Cascade Valley</span>.\n",
       "\"Of course! You insisted we could float on those old crates,\" she replied, brushing a strand of her sun-kissed hair\n",
       "behind her ear. \"I still can’t believe we almost sank!\"\n",
       "As kids, we had lofty dreams. I, <span style=\"color: #af00ff; text-decoration-color: #af00ff\">Ethan</span> <span style=\"color: #af00ff; text-decoration-color: #af00ff\">Rivers</span>, had my sights set on becoming the youngest environmental scientist \n",
       "in the state, while <span style=\"color: #af00ff; text-decoration-color: #af00ff\">Sarah</span> aimed to win the annual <span style=\"color: #af00ff; text-decoration-color: #af00ff\">Cascade Valley</span> Art Fair with her stunning paintings of the local \n",
       "landscape. \n",
       "Just then, a group of teenagers raced by, their laughter slicing through the nostalgia. \"What do you think they’re \n",
       "up to?\" I pondered aloud, taking in the vibrant scene.\n",
       "\"Probably planning their own summer escapades,\" she said, her blue eyes sparkling. \"You know, like we used to.\"\n",
       "I smiled, knowing no matter where life took us, the memories of those carefree days would forever remain etched in \n",
       "my heart, shaped by the shimmering waves of Lake Serenity.\n",
       "</pre>\n"
      ],
      "text/plain": [
       "I stood at the edge of Lake Serenity, the sun glistening on the water's surface. \"Do you remember when we built \n",
       "that terrible raft for the summer camp?\" I asked \u001b[38;5;129mSarah\u001b[0m, grinning. Her laughter echoed in my ears, reminding me of \n",
       "our countless summer adventures here in \u001b[38;5;129mCascade Valley\u001b[0m.\n",
       "\"Of course! You insisted we could float on those old crates,\" she replied, brushing a strand of her sun-kissed hair\n",
       "behind her ear. \"I still can’t believe we almost sank!\"\n",
       "As kids, we had lofty dreams. I, \u001b[38;5;129mEthan\u001b[0m \u001b[38;5;129mRivers\u001b[0m, had my sights set on becoming the youngest environmental scientist \n",
       "in the state, while \u001b[38;5;129mSarah\u001b[0m aimed to win the annual \u001b[38;5;129mCascade Valley\u001b[0m Art Fair with her stunning paintings of the local \n",
       "landscape. \n",
       "Just then, a group of teenagers raced by, their laughter slicing through the nostalgia. \"What do you think they’re \n",
       "up to?\" I pondered aloud, taking in the vibrant scene.\n",
       "\"Probably planning their own summer escapades,\" she said, her blue eyes sparkling. \"You know, like we used to.\"\n",
       "I smiled, knowing no matter where life took us, the memories of those carefree days would forever remain etched in \n",
       "my heart, shaped by the shimmering waves of Lake Serenity.\n"
      ]
     },
     "metadata": {},
     "output_type": "display_data"
    }
   ],
   "source": [
    "from redact_pii import run_redaction\n",
    "\n",
    "\n",
    "kwargs = {\"output_dir\": \"./sample_redaction/sample_output\", \"output_format\": \"json\", \"model\": \"llama3.2\"}\n",
    "run_redaction([\"./sample_redaction/sample_input\"], **kwargs)\n",
    "kwargs = {\"output_dir\": \"./sample_redaction/sample_output\", \"output_format\": \"html\", \"model\": \"llama3.2\"}\n",
    "run_redaction([\"./sample_redaction/sample_input\"], **kwargs)"
   ]
  }
 ],
 "metadata": {
  "kernelspec": {
   "display_name": "Python 3 (ipykernel)",
   "language": "python",
   "name": "python3"
  },
  "language_info": {
   "codemirror_mode": {
    "name": "ipython",
    "version": 3
   },
   "file_extension": ".py",
   "mimetype": "text/x-python",
   "name": "python",
   "nbconvert_exporter": "python",
   "pygments_lexer": "ipython3",
   "version": "3.11.5"
  }
 },
 "nbformat": 4,
 "nbformat_minor": 5
}
